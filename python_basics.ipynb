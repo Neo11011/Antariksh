{
 "cells": [
  {
   "cell_type": "code",
   "execution_count": 5,
   "metadata": {},
   "outputs": [
    {
     "name": "stdout",
     "output_type": "stream",
     "text": [
      "13\n",
      "7\n",
      "30\n",
      "3.3333333333333335\n",
      "3\n",
      "1\n",
      "True\n",
      "False\n",
      "True\n",
      "False\n",
      "False\n",
      "True\n",
      "False\n",
      "True\n",
      "False\n"
     ]
    }
   ],
   "source": [
    "# Arithmetic operators\n",
    "x=10\n",
    "y=3\n",
    "\n",
    "print(x+y)  # Output: 13\n",
    "print(x-y)  # Output: 7\n",
    "print(x*y)  # Output: 30\n",
    "print(x/y)  # Output: 3.3333333333333335\n",
    "print(x//y)  # Output: 3 (Floor division)\n",
    "print(x%y)  # Output: 1 (Modulus)\n",
    "\n",
    "# Comparison operators\n",
    "print(x>y)  # Output: True\n",
    "print(x<y)  # Output: False\n",
    "print(x>=y)  # Output: True\n",
    "print(x<=y)  # Output: False\n",
    "print(x==y)  # Output: False\n",
    "print(x!=y)  # Output: True\n",
    "\n",
    "# Logical operators\n",
    "a=True\n",
    "b=False\n",
    "print(a and b)  # Output: False\n",
    "print(a or b)  # Output: True\n",
    "print(not a)  # Output: False"
   ]
  },
  {
   "cell_type": "code",
   "execution_count": 22,
   "metadata": {},
   "outputs": [
    {
     "name": "stdout",
     "output_type": "stream",
     "text": [
      "apple\n",
      "orange\n",
      "['apple', 'pear', 'orange', 'grape']\n",
      "['apple', 'pear', 'orange', 'grape', 'kiwi']\n",
      "['apple', 'pear', 'grape', 'kiwi']\n",
      "4\n",
      "['apple', 'pear', 'grape']\n",
      "kiwi\n",
      "True\n",
      "False\n",
      "0\n",
      "1\n",
      "['apple', 'grape', 'pear']\n",
      "['pear', 'grape', 'apple']\n",
      "[2, 3, 4]\n"
     ]
    }
   ],
   "source": [
    "# Creating a list\n",
    "fruits = ['apple', 'banana', 'orange', 'grape']\n",
    "\n",
    "# Accessing elements\n",
    "print(fruits[0])  # Output: 'apple'\n",
    "print(fruits[2])  # Output: 'orange'\n",
    "\n",
    "# Modifying elements\n",
    "fruits[1] = 'pear'\n",
    "print(fruits)  # Output: ['apple', 'pear', 'orange', 'grape']\n",
    "\n",
    "# Adding elements\n",
    "fruits.append('kiwi')\n",
    "print(fruits)  # Output: ['apple', 'pear', 'orange', 'grape', 'kiwi']\n",
    "\n",
    "# Removing elements\n",
    "fruits.remove('orange')\n",
    "print(fruits)  # Output: ['apple', 'pear', 'grape', 'kiwi']\n",
    "\n",
    "# Length of the list\n",
    "print(len(fruits))  # Output: 4\n",
    "\n",
    "# Remove the last element from the list\n",
    "last_fruit = fruits.pop()\n",
    "print(fruits)  # Output: ['apple', 'pear', 'grape']\n",
    "print(last_fruit)  # Output: 'kiwi'\n",
    "\n",
    "# Check if an element exists in the list\n",
    "print('pear' in fruits)  # Output: True\n",
    "print('kiwi' in fruits)  # Output: False\n",
    "\n",
    "# Index of an element in the list\n",
    "index = fruits.index('apple')\n",
    "print(index)  # Output: 0\n",
    "\n",
    "# Count occurrences of an element in the list\n",
    "count_grape = fruits.count('grape')\n",
    "print(count_grape)  # Output: 1\n",
    "\n",
    "# Sorting the list\n",
    "fruits.sort()\n",
    "print(fruits)  # Output: ['apple', 'grape', 'pear']\n",
    "\n",
    "# Reversing the list||\n",
    "fruits.reverse()\n",
    "print(fruits)  # Output: ['pear', 'grape', 'apple']\n",
    "\n",
    "# Slicing the list\n",
    "numbers = [1, 2, 3, 4, 5]\n",
    "sliced_numbers = numbers[1:4]\n",
    "print(sliced_numbers)  # Output: [2, 3, 4]\n"
   ]
  },
  {
   "cell_type": "code",
   "execution_count": 6,
   "metadata": {},
   "outputs": [
    {
     "name": "stdout",
     "output_type": "stream",
     "text": [
      "10\n",
      "20\n",
      "2\n"
     ]
    }
   ],
   "source": [
    "# Creating a tuple\n",
    "point = (10, 20)\n",
    "\n",
    "# Accessing elements\n",
    "print(point[0])  # Output: 10\n",
    "print(point[1])  # Output: 20\n",
    "\n",
    "# Tuples are immutable\n",
    "# point[0] = 5  # This will raise an error\n",
    "\n",
    "# Length of the tuple\n",
    "print(len(point))  # Output: 2"
   ]
  },
  {
   "cell_type": "code",
   "execution_count": 14,
   "metadata": {},
   "outputs": [
    {
     "name": "stdout",
     "output_type": "stream",
     "text": [
      "Lewis Hamilton\n",
      "Charles Leclerc\n",
      "{'Mercedes': 'Lewis Hamilton', 'Red Bull': 'Max Verstappen', 'Ferrari': ['Charles Leclerc', 'Carlos Sainz']}\n",
      "{'Mercedes': 'Lewis Hamilton', 'Red Bull': 'Max Verstappen', 'Ferrari': ['Charles Leclerc', 'Carlos Sainz'], 'Aston Martin': 'Fernando Alonso'}\n",
      "{'Mercedes': 'Lewis Hamilton', 'Ferrari': ['Charles Leclerc', 'Carlos Sainz'], 'Aston Martin': 'Fernando Alonso'}\n",
      "True\n",
      "False\n",
      "dict_keys(['Mercedes', 'Ferrari', 'Aston Martin'])\n",
      "dict_values(['Lewis Hamilton', ['Charles Leclerc', 'Carlos Sainz'], 'Fernando Alonso'])\n",
      "{}\n"
     ]
    }
   ],
   "source": [
    "# Creating a dictionary\n",
    "f1 = {'Mercedes': 'Lewis Hamilton', 'Red Bull': 'Max Verstappen', 'Ferrari': 'Charles Leclerc'}\n",
    "\n",
    "# Accessing elements\n",
    "print(f1['Mercedes'])  # Output: 'Lewis Hamilton'\n",
    "print(f1['Ferrari'])   # Output: Charles Leclerc\n",
    "\n",
    "# Modifying elements\n",
    "f1['Ferrari'] = ['Charles Leclerc','Carlos Sainz']\n",
    "print(f1)  # Output: {'Mercedes': 'Lewis Hamilton', 'Red Bull': 'Max Verstappen, 'Ferrari': ['Charles Leclerc','Carlos Sainz']}\n",
    "\n",
    "# Adding elements\n",
    "f1['Aston Martin'] = 'Fernando Alonso'\n",
    "print(f1)  # Output: {'Mercedes': 'Lewis Hamilton', 'Red Bull': 'Max Verstappen, 'Ferrari': ['Charles Leclerc','Carlos Sainz'], 'Aston Martin': 'Fernando Alonso'}\n",
    "\n",
    "# Removing elements\n",
    "del f1['Red Bull']\n",
    "print(f1)  # Output: {'Mercedes': 'Lewis Hamilton', 'Ferrari': ['Charles Leclerc', 'Carlos Sainz'], 'Aston Martin': 'Fernando Alonso'}\n",
    "\n",
    "# Checking if a key exists in the dictionary\n",
    "print('Mercedes' in f1)  # Output: True\n",
    "print('Red Bull' in f1)  # Output: False\n",
    "\n",
    "#Printing all keys and values in dictionary\n",
    "print(f1.keys())\n",
    "print(f1.values())\n",
    "\n",
    "#Removing all elements from dicitonary\n",
    "f1.clear()\n",
    "print(f1)"
   ]
  },
  {
   "cell_type": "code",
   "execution_count": null,
   "metadata": {},
   "outputs": [],
   "source": []
  }
 ],
 "metadata": {
  "kernelspec": {
   "display_name": "Python 3",
   "language": "python",
   "name": "python3"
  },
  "language_info": {
   "codemirror_mode": {
    "name": "ipython",
    "version": 3
   },
   "file_extension": ".py",
   "mimetype": "text/x-python",
   "name": "python",
   "nbconvert_exporter": "python",
   "pygments_lexer": "ipython3",
   "version": "3.10.11"
  },
  "orig_nbformat": 4
 },
 "nbformat": 4,
 "nbformat_minor": 2
}
