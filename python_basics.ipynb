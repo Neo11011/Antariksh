{
 "cells": [
  {
   "cell_type": "code",
   "execution_count": 5,
   "metadata": {},
   "outputs": [
    {
     "name": "stdout",
     "output_type": "stream",
     "text": [
      "13\n",
      "7\n",
      "30\n",
      "3.3333333333333335\n",
      "3\n",
      "1\n",
      "True\n",
      "False\n",
      "True\n",
      "False\n",
      "False\n",
      "True\n",
      "False\n",
      "True\n",
      "False\n"
     ]
    }
   ],
   "source": [
    "# Arithmetic operators\n",
    "x=10\n",
    "y=3\n",
    "\n",
    "print(x+y)  # Output: 13\n",
    "print(x-y)  # Output: 7\n",
    "print(x*y)  # Output: 30\n",
    "print(x/y)  # Output: 3.3333333333333335\n",
    "print(x//y)  # Output: 3 (Floor division)\n",
    "print(x%y)  # Output: 1 (Modulus)\n",
    "\n",
    "# Comparison operators\n",
    "print(x>y)  # Output: True\n",
    "print(x<y)  # Output: False\n",
    "print(x>=y)  # Output: True\n",
    "print(x<=y)  # Output: False\n",
    "print(x==y)  # Output: False\n",
    "print(x!=y)  # Output: True\n",
    "\n",
    "# Logical operators\n",
    "a=True\n",
    "b=False\n",
    "print(a and b)  # Output: False\n",
    "print(a or b)  # Output: True\n",
    "print(not a)  # Output: False"
   ]
  },
  {
   "cell_type": "code",
   "execution_count": 22,
   "metadata": {},
   "outputs": [
    {
     "name": "stdout",
     "output_type": "stream",
     "text": [
      "apple\n",
      "orange\n",
      "['apple', 'pear', 'orange', 'grape']\n",
      "['apple', 'pear', 'orange', 'grape', 'kiwi']\n",
      "['apple', 'pear', 'grape', 'kiwi']\n",
      "4\n",
      "['apple', 'pear', 'grape']\n",
      "kiwi\n",
      "True\n",
      "False\n",
      "0\n",
      "1\n",
      "['apple', 'grape', 'pear']\n",
      "['pear', 'grape', 'apple']\n",
      "[2, 3, 4]\n"
     ]
    }
   ],
   "source": [
    "# Creating a list\n",
    "fruits = ['apple', 'banana', 'orange', 'grape']\n",
    "\n",
    "# Accessing elements\n",
    "print(fruits[0])  # Output: 'apple'\n",
    "print(fruits[2])  # Output: 'orange'\n",
    "\n",
    "# Modifying elements\n",
    "fruits[1] = 'pear'\n",
    "print(fruits)  # Output: ['apple', 'pear', 'orange', 'grape']\n",
    "\n",
    "# Adding elements\n",
    "fruits.append('kiwi')\n",
    "print(fruits)  # Output: ['apple', 'pear', 'orange', 'grape', 'kiwi']\n",
    "\n",
    "# Removing elements\n",
    "fruits.remove('orange')\n",
    "print(fruits)  # Output: ['apple', 'pear', 'grape', 'kiwi']\n",
    "\n",
    "# Length of the list\n",
    "print(len(fruits))  # Output: 4\n",
    "\n",
    "# Remove the last element from the list\n",
    "last_fruit = fruits.pop()\n",
    "print(fruits)  # Output: ['apple', 'pear', 'grape']\n",
    "print(last_fruit)  # Output: 'kiwi'\n",
    "\n",
    "# Check if an element exists in the list\n",
    "print('pear' in fruits)  # Output: True\n",
    "print('kiwi' in fruits)  # Output: False\n",
    "\n",
    "# Index of an element in the list\n",
    "index = fruits.index('apple')\n",
    "print(index)  # Output: 0\n",
    "\n",
    "# Count occurrences of an element in the list\n",
    "count_grape = fruits.count('grape')\n",
    "print(count_grape)  # Output: 1\n",
    "\n",
    "# Sorting the list\n",
    "fruits.sort()\n",
    "print(fruits)  # Output: ['apple', 'grape', 'pear']\n",
    "\n",
    "# Reversing the list||\n",
    "fruits.reverse()\n",
    "print(fruits)  # Output: ['pear', 'grape', 'apple']\n",
    "\n",
    "# Slicing the list\n",
    "numbers = [1, 2, 3, 4, 5]\n",
    "sliced_numbers = numbers[1:4]\n",
    "print(sliced_numbers)  # Output: [2, 3, 4]\n"
   ]
  },
  {
   "cell_type": "code",
   "execution_count": 6,
   "metadata": {},
   "outputs": [
    {
     "name": "stdout",
     "output_type": "stream",
     "text": [
      "10\n",
      "20\n",
      "2\n"
     ]
    }
   ],
   "source": [
    "# Creating a tuple\n",
    "point = (10, 20)\n",
    "\n",
    "# Accessing elements\n",
    "print(point[0])  # Output: 10\n",
    "print(point[1])  # Output: 20\n",
    "\n",
    "# Tuples are immutable\n",
    "# point[0] = 5  # This will raise an error\n",
    "\n",
    "# Length of the tuple\n",
    "print(len(point))  # Output: 2"
   ]
  },
  {
   "cell_type": "code",
   "execution_count": 14,
   "metadata": {},
   "outputs": [
    {
     "name": "stdout",
     "output_type": "stream",
     "text": [
      "Lewis Hamilton\n",
      "Charles Leclerc\n",
      "{'Mercedes': 'Lewis Hamilton', 'Red Bull': 'Max Verstappen', 'Ferrari': ['Charles Leclerc', 'Carlos Sainz']}\n",
      "{'Mercedes': 'Lewis Hamilton', 'Red Bull': 'Max Verstappen', 'Ferrari': ['Charles Leclerc', 'Carlos Sainz'], 'Aston Martin': 'Fernando Alonso'}\n",
      "{'Mercedes': 'Lewis Hamilton', 'Ferrari': ['Charles Leclerc', 'Carlos Sainz'], 'Aston Martin': 'Fernando Alonso'}\n",
      "True\n",
      "False\n",
      "dict_keys(['Mercedes', 'Ferrari', 'Aston Martin'])\n",
      "dict_values(['Lewis Hamilton', ['Charles Leclerc', 'Carlos Sainz'], 'Fernando Alonso'])\n",
      "{}\n"
     ]
    }
   ],
   "source": [
    "# Creating a dictionary\n",
    "f1 = {'Mercedes': 'Lewis Hamilton', 'Red Bull': 'Max Verstappen', 'Ferrari': 'Charles Leclerc'}\n",
    "\n",
    "# Accessing elements\n",
    "print(f1['Mercedes'])  # Output: 'Lewis Hamilton'\n",
    "print(f1['Ferrari'])   # Output: Charles Leclerc\n",
    "\n",
    "# Modifying elements\n",
    "f1['Ferrari'] = ['Charles Leclerc','Carlos Sainz']\n",
    "print(f1)  # Output: {'Mercedes': 'Lewis Hamilton', 'Red Bull': 'Max Verstappen, 'Ferrari': ['Charles Leclerc','Carlos Sainz']}\n",
    "\n",
    "# Adding elements\n",
    "f1['Aston Martin'] = 'Fernando Alonso'\n",
    "print(f1)  # Output: {'Mercedes': 'Lewis Hamilton', 'Red Bull': 'Max Verstappen, 'Ferrari': ['Charles Leclerc','Carlos Sainz'], 'Aston Martin': 'Fernando Alonso'}\n",
    "\n",
    "# Removing elements\n",
    "del f1['Red Bull']\n",
    "print(f1)  # Output: {'Mercedes': 'Lewis Hamilton', 'Ferrari': ['Charles Leclerc', 'Carlos Sainz'], 'Aston Martin': 'Fernando Alonso'}\n",
    "\n",
    "# Checking if a key exists in the dictionary\n",
    "print('Mercedes' in f1)  # Output: True\n",
    "print('Red Bull' in f1)  # Output: False\n",
    "\n",
    "#Printing all keys and values in dictionary\n",
    "print(f1.keys())\n",
    "print(f1.values())\n",
    "\n",
    "#Removing all elements from dicitonary\n",
    "f1.clear()\n",
    "print(f1)"
   ]
  },
  {
   "cell_type": "code",
   "execution_count": 1,
   "metadata": {},
   "outputs": [
    {
     "name": "stdout",
     "output_type": "stream",
     "text": [
      "{1, 2, 3, 4, 5, 6, 7}\n",
      "{3, 4, 5}\n",
      "{1, 2}\n",
      "True\n",
      "False\n",
      "{1, 2, 4, 5}\n",
      "{3, 4, 5, 6, 7, 8}\n"
     ]
    }
   ],
   "source": [
    "# Creating sets with numbers\n",
    "set_a = {1, 2, 3, 4, 5}\n",
    "set_b = {3, 4, 5, 6, 7}\n",
    "\n",
    "# Union of two sets\n",
    "union_set = set_a.union(set_b)\n",
    "print(union_set)  # Output: {1, 2, 3, 4, 5, 6, 7}\n",
    "\n",
    "# Intersection of two sets\n",
    "intersection_set = set_a.intersection(set_b)\n",
    "print(intersection_set)  # Output: {3, 4, 5}\n",
    "\n",
    "# Difference of two sets\n",
    "difference_set = set_a.difference(set_b)\n",
    "print(difference_set)  # Output: {1, 2}\n",
    "\n",
    "# Check if a set is a subset of another set\n",
    "subset_check = set_a.issubset(union_set)\n",
    "print(subset_check)  # Output: True\n",
    "\n",
    "# Check if two sets have no common elements (disjoint sets)\n",
    "disjoint_check = set_a.isdisjoint(set_b)\n",
    "print(disjoint_check)  # Output: False\n",
    "\n",
    "# Removing elements from the set\n",
    "set_a.remove(3)\n",
    "print(set_a)  # Output: {1, 2, 4, 5}\n",
    "\n",
    "# Adding elements to the set\n",
    "set_b.add(8)\n",
    "print(set_b)  # Output: {3, 4, 5, 6, 7, 8}"
   ]
  },
  {
   "cell_type": "code",
   "execution_count": 1,
   "metadata": {},
   "outputs": [
    {
     "name": "stdout",
     "output_type": "stream",
     "text": [
      "apple\n",
      "banana\n",
      "orange\n",
      "grape\n",
      "1\n",
      "2\n",
      "3\n",
      "4\n",
      "5\n",
      "name: Yuvraj\n",
      "age: 19\n",
      "city: Mumbai\n"
     ]
    }
   ],
   "source": [
    "# Iterating over a list\n",
    "fruits = ['apple', 'banana', 'orange', 'grape']\n",
    "for fruit in fruits:\n",
    "    print(fruit)\n",
    "\n",
    "# Iterating over a range\n",
    "for i in range(1, 6):\n",
    "    print(i)\n",
    "\n",
    "# Iterating over a dictionary\n",
    "person = {'name': 'Yuvraj', 'age': 19, 'city': 'Mumbai'}\n",
    "for key, value in person.items():\n",
    "    print(f\"{key}: {value}\")"
   ]
  },
  {
   "cell_type": "code",
   "execution_count": 3,
   "metadata": {},
   "outputs": [
    {
     "name": "stdout",
     "output_type": "stream",
     "text": [
      "Hello, Yuvraj!\n",
      "[2, 4, 6, 8, 10]\n",
      "[2, 4]\n",
      "25\n",
      "[(8, 2), (3, 5), (1, 9)]\n",
      "15\n",
      "name: Yuvraj\n",
      "age: 19\n",
      "city: Mumbai\n",
      "arg1: 1\n",
      "args: (2, 3)\n",
      "kwarg1: value\n",
      "kwargs: {'key1': 'val1', 'key2': 'val2'}\n"
     ]
    }
   ],
   "source": [
    "# Defining a function\n",
    "def greet(name):\n",
    "    return f\"Hello, {name}!\"\n",
    "\n",
    "# Calling the function\n",
    "message = greet('Yuvraj')\n",
    "print(message)  \n",
    "\n",
    "def double(x):\n",
    "    return x * 2\n",
    "\n",
    "numbers = [1, 2, 3, 4, 5]\n",
    "doubled_numbers = [double(num) for num in numbers]\n",
    "print(doubled_numbers)\n",
    "\n",
    "# Using a function with condition in a loop\n",
    "even_numbers = [num for num in numbers if num % 2 == 0]\n",
    "print(even_numbers)  \n",
    "\n",
    "# Using lambda functions\n",
    "square = lambda x: x ** 2\n",
    "print(square(5))  \n",
    "\n",
    "# Using lambda functions in sorting\n",
    "points = [(3, 5), (1, 9), (8, 2)]\n",
    "points.sort(key=lambda point: point[1])\n",
    "print(points)  \n",
    "\n",
    "def add(*args):\n",
    "    total = 0\n",
    "    for num in args:\n",
    "        total += num\n",
    "    return total\n",
    "\n",
    "result = add(1, 2, 3, 4, 5)\n",
    "print(result) \n",
    "\n",
    "def display_info(**kwargs):\n",
    "    for key, value in kwargs.items():\n",
    "        print(f\"{key}: {value}\")\n",
    "\n",
    "display_info(name='Yuvraj', age=19, city='Mumbai')\n",
    "\n",
    "\n",
    "def combined_args_kwargs(arg1, *args, kwarg1=None, **kwargs):\n",
    "    print(f\"arg1: {arg1}\")\n",
    "    print(f\"args: {args}\")\n",
    "    print(f\"kwarg1: {kwarg1}\")\n",
    "    print(f\"kwargs: {kwargs}\")\n",
    "\n",
    "combined_args_kwargs(1, 2, 3, kwarg1='value', key1='val1', key2='val2')"
   ]
  },
  {
   "cell_type": "code",
   "execution_count": 1,
   "metadata": {},
   "outputs": [
    {
     "name": "stdout",
     "output_type": "stream",
     "text": [
      "10\n",
      "20\n"
     ]
    }
   ],
   "source": [
    "def my_function():\n",
    "    local_var = 10\n",
    "    print(local_var)\n",
    "\n",
    "my_function()  # Output: 10\n",
    "# Trying to access local_var outside the function will result in an error.\n",
    "\n",
    "global_var = 20  # This is a global variable\n",
    "\n",
    "def another_function():\n",
    "    print(global_var)\n",
    "\n",
    "another_function()  # Output: 20\n"
   ]
  },
  {
   "cell_type": "code",
   "execution_count": 7,
   "metadata": {},
   "outputs": [
    {
     "name": "stdout",
     "output_type": "stream",
     "text": [
      "Toyota Corolla (Gasoline Fuel)\n",
      "Harley-Davidson Sportster (V-Twin Engine)\n"
     ]
    }
   ],
   "source": [
    "class Vehicle:\n",
    "    def __init__(self, make, model):\n",
    "        self.__make = make\n",
    "        self.__model = model\n",
    "\n",
    "    def __str__(self):\n",
    "        return f\"{self.__make} {self.__model}\"\n",
    "\n",
    "\n",
    "class Car(Vehicle):\n",
    "    def __init__(self, make, model, fuel_type):\n",
    "        super().__init__(make, model)\n",
    "        self.__fuel_type = fuel_type\n",
    "\n",
    "    def __str__(self):\n",
    "        return f\"{super().__str__()} ({self.__fuel_type} Fuel)\"\n",
    "\n",
    "class Motorcycle(Vehicle):\n",
    "    def __init__(self, make, model, engine_type):\n",
    "        super().__init__(make, model)\n",
    "        self.__engine_type = engine_type\n",
    "\n",
    "    def __str__(self):\n",
    "        return f\"{super().__str__()} ({self.__engine_type} Engine)\"\n",
    "\n",
    "\n",
    "def print_vehicle_details(vehicle):\n",
    "    print(vehicle)\n",
    "\n",
    "\n",
    "car1 = Car(\"Toyota\", \"Corolla\", \"Gasoline\")\n",
    "motorcycle1 = Motorcycle(\"Harley-Davidson\", \"Sportster\", \"V-Twin\")\n",
    "\n",
    "\n",
    "print_vehicle_details(car1) \n",
    "print_vehicle_details(motorcycle1)  \n"
   ]
  },
  {
   "cell_type": "code",
   "execution_count": 5,
   "metadata": {},
   "outputs": [
    {
     "name": "stdout",
     "output_type": "stream",
     "text": [
      "Hello Yuvraj\n",
      "Hello Yuvraj\n",
      "Hello Yuvraj\n",
      "Hello Yuvraj\n"
     ]
    }
   ],
   "source": [
    "def repeat(num_times):\n",
    "    def decorator_repeat(func):\n",
    "        def wrapper(*args, **kwargs):\n",
    "            for _ in range (num_times):\n",
    "                result=func(*args , **kwargs)\n",
    "            return result\n",
    "        return wrapper\n",
    "    return decorator_repeat\n",
    "\n",
    "@repeat(num_times=4)\n",
    "def greet(name): \n",
    "    print(f'Hello {name}')\n",
    "    \n",
    "greet('Yuvraj')"
   ]
  },
  {
   "cell_type": "code",
   "execution_count": 6,
   "metadata": {},
   "outputs": [
    {
     "name": "stdout",
     "output_type": "stream",
     "text": [
      "Invalid input. Please enter numeric values.\n"
     ]
    }
   ],
   "source": [
    "def divide_numbers(num1, num2):\n",
    "    try:\n",
    "        result = num1 / num2\n",
    "        return result\n",
    "    except ZeroDivisionError:\n",
    "        return \"Error: Division by zero is not allowed.\"\n",
    "    except TypeError:\n",
    "        return \"Error: Please provide valid numeric inputs.\"\n",
    "    except Exception as e:\n",
    "        return f\"An error occurred: {e}\"\n",
    "\n",
    "\n",
    "try:\n",
    "    num1 = float(input(\"Enter the numerator: \"))\n",
    "    num2 = float(input(\"Enter the denominator: \"))\n",
    "    result = divide_numbers(num1, num2)\n",
    "    print(\"Result:\", result)\n",
    "except ValueError:\n",
    "    print(\"Invalid input. Please enter numeric values.\")\n",
    "except Exception as e:\n",
    "    print(f\"An error occurred: {e}\")"
   ]
  },
  {
   "cell_type": "code",
   "execution_count": null,
   "metadata": {},
   "outputs": [],
   "source": []
  }
 ],
 "metadata": {
  "kernelspec": {
   "display_name": "Python 3",
   "language": "python",
   "name": "python3"
  },
  "language_info": {
   "codemirror_mode": {
    "name": "ipython",
    "version": 3
   },
   "file_extension": ".py",
   "mimetype": "text/x-python",
   "name": "python",
   "nbconvert_exporter": "python",
   "pygments_lexer": "ipython3",
   "version": "3.10.11"
  },
  "orig_nbformat": 4
 },
 "nbformat": 4,
 "nbformat_minor": 2
}
